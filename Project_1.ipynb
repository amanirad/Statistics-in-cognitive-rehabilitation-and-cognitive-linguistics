{
 "cells": [
  {
   "cell_type": "markdown",
   "metadata": {},
   "source": [
    "# Project 1.\n",
    "\n",
    "In a study of memory processes, animals were tested in a one-trial avoidance-learning task. The animals were presented with a fear-producing stimulus on the learning trial as soon as they stepped across a line in the test chamber. The dependent variable was the time it took them to step across the line on the test trial. Three groups of animals differed in terms of the area in which they had electrodes implanted in their cortex (Neutral site, Area A, or Area B). Each group was further divided and given electrical stimulation 50, 100, or 150 milliseconds after crossing the line and being presented with the fear-inducing stimulus. If the brain area that was stimulated is involved in memory, stimulation would be expected to interfere with memory consolidation and retard learning of the avoidance response, and the animal should not show any hesitancy in recrossing the line. The data on latency to recross the line are as follows:\n",
    "\n",
    "<img src=\"files/p9.png\" width=\"600\"/>\n",
    "\n",
    "The data are found in https://github.com/amanirad/Statistics-in-cognitive-rehabilitation-and-cognitive-linguistics.\n",
    "\n",
    "1. Plot ungrouped as well as grouped frequency distribution for these data.\n",
    "2. Create the histogram for the data using a reasonable number of intervals. Fit the probability density of each condition on the data.\n",
    "3. Plot ungrouped as well as grouped boxplot for these data.\n",
    "4. Discuss the statistical summary of the data in each condition in the form of statistics of mean, standard deviation, median, quantiles, etc.\n",
    "5. Does this data include outliers? Should they be removed? How? Remove them if necessary.\n",
    "6. Check the normality of the data using: \n",
    " 1. Find and plot a sampling distribution using a selection of samples such as 50 with sample size equals to 5 from the data in the table above.  \n",
    "    1. Compare the means and the standard deviations for the distribution in main data and the sampling distribution of the mean.\n",
    "    2. What would the Central Limit Theorem lead you to expect in this situation?\n",
    "    3. Do the data correspond to what you would predict?\n",
    "    4. In what way would the result differ if you had drawn more samples of size 5?\n",
    "    5. In what way would the result differ if you had drawn 50 samples of size 15?\n",
    " 2. Check out the QQ plot. \n",
    "3. Use the appropriate statistical test and check its p-value and discuss it. What is the null hypothesis? Outline the hypothesis-testing procedure that you have just applied. Compute 95% confidence llimit on mean (or median).\n",
    "7. Is the data distribution symmetrical? Examine and discuss it using an appropriate statistical test.\n"
   ]
  },
  {
   "cell_type": "code",
   "execution_count": null,
   "metadata": {},
   "outputs": [],
   "source": []
  },
  {
   "cell_type": "code",
   "execution_count": null,
   "metadata": {},
   "outputs": [],
   "source": []
  }
 ],
 "metadata": {
  "kernelspec": {
   "display_name": "R",
   "language": "R",
   "name": "ir"
  },
  "language_info": {
   "codemirror_mode": "r",
   "file_extension": ".r",
   "mimetype": "text/x-r-source",
   "name": "R",
   "pygments_lexer": "r",
   "version": "3.6.3"
  }
 },
 "nbformat": 4,
 "nbformat_minor": 2
}
